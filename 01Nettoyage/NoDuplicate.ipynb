{
 "cells": [
  {
   "cell_type": "markdown",
   "id": "15765c75-e937-4d9e-8ab5-b574560476f8",
   "metadata": {},
   "source": [
    "# Pas de doublons\n",
    "---\n",
    "_Pour la constitution des clusters la présence de messages strictement identiques n'est pas nécessaire._\n",
    "\n",
    "---\n",
    "\n",
    "- 1. Détecter tous messages présents plus d'une fois du dataset:"
   ]
  },
  {
   "cell_type": "code",
   "execution_count": 1,
   "id": "5e6cb9fc-e747-457e-bdd3-307d29c8a7be",
   "metadata": {},
   "outputs": [],
   "source": [
    "brut = \"MillionTweets_NEF.txt\"\n",
    "clean = \"MillionTweetsMin_NEF.txt\"\n",
    "std = \"MillionTweetsStd_NEF.txt\"\n",
    "indexUniq = []"
   ]
  },
  {
   "cell_type": "code",
   "execution_count": 2,
   "id": "31654b02-8218-4c05-a962-43ee7be9a990",
   "metadata": {},
   "outputs": [],
   "source": [
    "def indexU(data):\n",
    "    iteration = 1\n",
    "    lines = []\n",
    "    index = []\n",
    "    with open(data, 'r') as datas:\n",
    "        for line in datas:\n",
    "            lines.append(line)\n",
    "            \n",
    "    for ind,e in enumerate(lines):\n",
    "        dup = 0;\n",
    "        for i in range(iteration, len(lines)):\n",
    "            if e == lines[i]:\n",
    "                dup += 1\n",
    "                break\n",
    "        if dup == 0:\n",
    "            index.append(ind)\n",
    "        iteration += 1   \n",
    "    return index"
   ]
  },
  {
   "cell_type": "code",
   "execution_count": 3,
   "id": "1632aa2a-b594-45c7-b541-c8286be80e7c",
   "metadata": {},
   "outputs": [
    {
     "name": "stdout",
     "output_type": "stream",
     "text": [
      "Wall time: 9h 35min 49s\n"
     ]
    }
   ],
   "source": [
    "%%time\n",
    "indexUniq = indexU(brut)"
   ]
  },
  {
   "cell_type": "code",
   "execution_count": 4,
   "id": "45f3c3a6-8f8d-468a-adf8-7cd31b5c9afd",
   "metadata": {},
   "outputs": [
    {
     "data": {
      "text/plain": [
       "658009"
      ]
     },
     "execution_count": 4,
     "metadata": {},
     "output_type": "execute_result"
    }
   ],
   "source": [
    "#test d'echelle\n",
    "len(indexUniq)"
   ]
  },
  {
   "cell_type": "markdown",
   "id": "4e64adc7-a301-4ea7-983f-b7aa13b9b34f",
   "metadata": {},
   "source": [
    "---\n",
    "- 2. Enregistrer les nouveaux datasets sans doublons:"
   ]
  },
  {
   "cell_type": "code",
   "execution_count": 5,
   "id": "acaa02e8-ce6f-4af3-83e9-6992585cc2f7",
   "metadata": {},
   "outputs": [],
   "source": [
    "Outbrut = brut[:-4] + \"U.txt\"\n",
    "Outclean = clean[:-4] + \"U.txt\"\n",
    "Outstd = std[:-4] + \"U.txt\""
   ]
  },
  {
   "cell_type": "code",
   "execution_count": 6,
   "id": "7d180872-78c5-43e8-937f-1862c7640cdd",
   "metadata": {},
   "outputs": [],
   "source": [
    "def recordNoDup(inB, outB, inC, outC, inS, outS, index):\n",
    "    oB = open(outB, 'a')\n",
    "    oC = open(outC, 'a')\n",
    "    oS = open(outS, 'a')\n",
    "    iB = []\n",
    "    iC = []\n",
    "    iS = []\n",
    "    \n",
    "    with open(inB, 'r') as datasB:\n",
    "        for line in datasB:\n",
    "            iB.append(line)\n",
    "    with open(inC, 'r') as datasC:\n",
    "        for line in datasC:\n",
    "            iC.append(line)\n",
    "    with open(inS, 'r') as datasS:\n",
    "        for line in datasS:\n",
    "            iS.append(line)\n",
    "            \n",
    "    for i in range(len(iB)):\n",
    "        if i in index:\n",
    "            oB.write(iB[i])\n",
    "            oC.write(iC[i])\n",
    "            oS.write(iS[i])\n",
    "    \n",
    "    oB.close()\n",
    "    oC.close()\n",
    "    oS.close()"
   ]
  },
  {
   "cell_type": "code",
   "execution_count": 7,
   "id": "db481f19-2c85-4455-843f-dbdf955284d7",
   "metadata": {},
   "outputs": [
    {
     "name": "stdout",
     "output_type": "stream",
     "text": [
      "Wall time: 1h 11min 17s\n"
     ]
    }
   ],
   "source": [
    "%%time\n",
    "recordNoDup(brut, Outbrut, clean, Outclean, std, Outstd, indexUniq)"
   ]
  },
  {
   "cell_type": "markdown",
   "id": "524ebd05-dc8f-4185-af9b-f476e7d7a33e",
   "metadata": {},
   "source": [
    "---"
   ]
  }
 ],
 "metadata": {
  "kernelspec": {
   "display_name": "Python 3 (ipykernel)",
   "language": "python",
   "name": "python3"
  },
  "language_info": {
   "codemirror_mode": {
    "name": "ipython",
    "version": 3
   },
   "file_extension": ".py",
   "mimetype": "text/x-python",
   "name": "python",
   "nbconvert_exporter": "python",
   "pygments_lexer": "ipython3",
   "version": "3.7.3"
  }
 },
 "nbformat": 4,
 "nbformat_minor": 5
}
