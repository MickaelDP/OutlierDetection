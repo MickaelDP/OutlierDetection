{
 "cells": [
  {
   "cell_type": "raw",
   "id": "ede97f39-e153-41fc-a50e-d68ceed8e8d8",
   "metadata": {},
   "source": [
    "Fonction d'inspection d'un dataset:\n",
    "Pour chaque dataset un fichier keywords sera présent dans le dossier, il représente soit les mots clés utilisés pour la recherche dans le cas des dataset de sur-échantillonage, soit de mot clés qui peuvent indiquer que le dataset contient ce que l'on cherche de manière non exhaustif."
   ]
  },
  {
   "cell_type": "code",
   "execution_count": 1,
   "id": "ad1d479d-2c96-434c-bcef-85a30a26eeae",
   "metadata": {},
   "outputs": [],
   "source": [
    "resultat = {}"
   ]
  },
  {
   "cell_type": "code",
   "execution_count": 2,
   "id": "b7cd00ce-d40b-47b9-bd98-817764a52cd8",
   "metadata": {},
   "outputs": [],
   "source": [
    "def loadDataset(file, dico):\n",
    "    \"\"\"Charge un fichier keywords et le transforme en dictionnaire initialisé à 0 pour\n",
    "    chaque mot.\n",
    "\n",
    "    Args:\n",
    "        file (string): fichier keywords correspondant\n",
    "        dico (dictionnaire): dictionnaire pour le programme\n",
    "    \"\"\"\n",
    "    with open(file, 'r') as file:\n",
    "        for line in file:\n",
    "            resultat[line.split(\"\\n\")[0]] = 0\n"
   ]
  },
  {
   "cell_type": "code",
   "execution_count": 3,
   "id": "5a9438b6-35a0-40b1-9720-e87148af683f",
   "metadata": {},
   "outputs": [
    {
     "data": {
      "text/plain": [
       "dict_keys(['beur', 'beurette', 'rabza', 'beureu', 'bicot', 'raton', 'bounioul', 'bougnoule', 'bougnoul', 'racaille', 'crouille', 'blédard', 'métèque', 'arabe de service', 'sale arabe', 'arabe voleur', 'arabe pas français', 'arabe étranger', 'grand remplacement', 'sale noir', 'négroide', 'congoide', 'bamboula', 'face de pygmé', 'macaque', 'banania', 'nègre', 'négresse', 'noir de service', 'nègre de maison', 'race inférieur', 'babouin', 'tsigane', 'tzigane', 'romanichel', 'romanichelle', 'sinté', 'sintée', 'manouche', 'gitan', 'gitane', 'bohémien', 'bohémienne', 'caraque', 'noi', 'manouches', 'yéniches', 'race nomade', 'sale roumaine', 'sale roumain', 'niakoué', 'niakouée', 'niaqué', 'niaquée', 'niaquoué', 'niaquouée', 'chinetoque', 'chinetoc', 'chinetok', 'noich', 'noichi', 'face de citron', 'bridé', 'sale asiat', 'sale chinois', 'babtou', 'toubab', 'muzz', 'envahisseur musulman', 'immigration islamique', 'islamisation', 'musulman terroriste', 'islam terrorisme', 'danger islam', 'menace islamiste', 'musulman délinquant', 'youpin', 'youpine', 'feuj', 'sale juif', 'sale juive', 'juiverie', 'complot juif', 'mafia juives', 'hoananas', 'pornographie mémorielle', 'shoax', 'propagande sioniste', 'juif voleur', 'juif rothschild', 'juif franc-macon', 'juif traitre', 'sous race de juif', 'mécréant', 'kouffar', 'kâffir', 'bigot', 'bigotte', 'grenouille de bénitier', 'sale catho', 'féministe hystérique', 'salope', 'pute', 'biatch', 'bitch', 'poufiasse', 'connasse', 'emmerdeuse', 'pétasse', 'salasse', 'grognasse', 'guenon', 'mal baisée', 'blondasse', 'femme hystérique', 'féministe de service', 'poulette', 'tepu', 'pouffe', 'bonne à rien', 'chaudasse', 'meuf vulgaire', 'féministe totalitaire', 'grosse chienne', 'gonzesse', 'sale meuf', 'chienne féministe', 'bobonne', 'pédé', 'pd', 'pédale', 'tapette', 'tarlouze', 'tantouze', 'tafiole', 'fiotte', 'gouine', 'gouinasse', 'camionneuse', 'butch', 'goudou', 'follasse', 'travelo', 'enculé', 'pédéraste', 'lopette', 'broutte minou', 'sale pd', 'sale gay', 'mongo', 'mongol', 'mongolien', 'mongolito', 'gogol', 'attardé', 'espèce d’handicapé', 'cotorep', 'triso', 'débile mental'])"
      ]
     },
     "execution_count": 3,
     "metadata": {},
     "output_type": "execute_result"
    }
   ],
   "source": [
    "loadDataset(\"keywords\", resultat)\n",
    "resultat.keys()"
   ]
  },
  {
   "cell_type": "code",
   "execution_count": 4,
   "id": "03618adc-e82e-4d0e-9889-9ca38790228f",
   "metadata": {},
   "outputs": [],
   "source": [
    "def recordic(file, dico):\n",
    "    \"\"\"Parcours un dataset et vérifie le nombre d'occurrences des clefs d'un dictionnaire.\n",
    "    \n",
    "    Args:\n",
    "        file (string): dataset\n",
    "        dico (dictionnaire): dictionnaire de mot clés\n",
    "    \"\"\"\n",
    "    dico[\"LINE\"] = 0\n",
    "    with open(file, 'r') as file:\n",
    "        for e in file:\n",
    "            dico[\"LINE\"] += 1\n",
    "            for k in dico.keys():\n",
    "                if(k in e):\n",
    "                    dico[k] +=1"
   ]
  },
  {
   "cell_type": "code",
   "execution_count": 5,
   "id": "76ee0323-321c-411c-ac1c-7a6aac5d1a86",
   "metadata": {},
   "outputs": [],
   "source": [
    "recordic(\"MillionsTweets.csv\", resultat)"
   ]
  },
  {
   "cell_type": "code",
   "execution_count": 6,
   "id": "b9bddf64-4839-4602-880b-bb97129b6b36",
   "metadata": {},
   "outputs": [],
   "source": [
    "def rapportR(dico, out):\n",
    "    \"\"\"représente le rapport sur un dataset en fonction des mots clés relatifs ou constitutifs de sa formation\n",
    "\n",
    "    Args:\n",
    "        dico (dictionnaire): dictionnaire des mots clés\n",
    "        out (string): fichier de sortie\n",
    "    \"\"\"\n",
    "    with open(out, 'a') as file:\n",
    "        for k in dico.keys():\n",
    "            if(k != \"LINE\"):\n",
    "                file.write(f\"{k}:{dico[k]}/{round(dico[k]/dico['LINE']*100, 4)}%\\n\")"
   ]
  },
  {
   "cell_type": "code",
   "execution_count": 7,
   "id": "e40bec06-ad29-42ed-bd8e-46a6a0b0badf",
   "metadata": {},
   "outputs": [],
   "source": [
    "rapportR(resultat, \"MillionsTweetsRapport.txt\")"
   ]
  },
  {
   "cell_type": "code",
   "execution_count": 8,
   "id": "cf148f77-905d-4585-bfe9-7b22f07a0c10",
   "metadata": {},
   "outputs": [
    {
     "name": "stdout",
     "output_type": "stream",
     "text": [
      "beur:370/0.034%\n",
      "\n",
      "beurette:31/0.0028%\n",
      "\n",
      "rabza:0/0.0%\n",
      "\n",
      "beureu:0/0.0%\n",
      "\n",
      "bicot:4/0.0004%\n",
      "\n"
     ]
    }
   ],
   "source": [
    "with open(\"MillionsTweetsRapport.txt\", 'r') as file:\n",
    "    for e in range(5):\n",
    "        print(file.readline())"
   ]
  },
  {
   "cell_type": "raw",
   "id": "4474fe39-217f-4dc9-aac6-ead2474cb888",
   "metadata": {},
   "source": [
    "On obtient au final une vision partielle du contenu du fichier nous permettant de constater la présence éventuelle des expressions recherchées, comme ici pour la haine avec un rapport de quantité."
   ]
  }
 ],
 "metadata": {
  "kernelspec": {
   "display_name": "Python 3 (ipykernel)",
   "language": "python",
   "name": "python3"
  },
  "language_info": {
   "codemirror_mode": {
    "name": "ipython",
    "version": 3
   },
   "file_extension": ".py",
   "mimetype": "text/x-python",
   "name": "python",
   "nbconvert_exporter": "python",
   "pygments_lexer": "ipython3",
   "version": "3.7.3"
  }
 },
 "nbformat": 4,
 "nbformat_minor": 5
}
